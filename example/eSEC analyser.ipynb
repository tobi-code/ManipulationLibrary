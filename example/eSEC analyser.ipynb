{
 "metadata": {
  "language_info": {
   "codemirror_mode": {
    "name": "ipython",
    "version": 3
   },
   "file_extension": ".py",
   "mimetype": "text/x-python",
   "name": "python",
   "nbconvert_exporter": "python",
   "pygments_lexer": "ipython3",
   "version": "3.8.10"
  },
  "orig_nbformat": 2,
  "kernelspec": {
   "name": "python3",
   "display_name": "Python 3.8.10 64-bit"
  },
  "interpreter": {
   "hash": "31f2aee4e71d21fbe5cf8b01ff0e069b9275f58929596ceb00d14d90e3e16cd6"
  }
 },
 "nbformat": 4,
 "nbformat_minor": 2,
 "cells": [
  {
   "cell_type": "code",
   "execution_count": null,
   "source": [
    "#!/usr/bin/env python3\n",
    "# -*- coding: utf-8 -*-\n",
    "\"\"\"\n",
    "Created 2020\n",
    "\n",
    "@author: Tobias Strübing\n",
    "\"\"\"\n",
    "import sys\n",
    "sys.path.insert(1, '..')\n",
    "\n",
    "import eSEC_analyser as analyse"
   ],
   "outputs": [],
   "metadata": {}
  },
  {
   "cell_type": "markdown",
   "source": [
    "## The first step is to import eSEC matrices from an PDF file. These matrices will be saved as a python dict that contains numpy arrays."
   ],
   "metadata": {}
  },
  {
   "cell_type": "code",
   "execution_count": null,
   "source": [
    "#see all functions of this module\n",
    "help(analyse)"
   ],
   "outputs": [],
   "metadata": {}
  },
  {
   "cell_type": "code",
   "execution_count": null,
   "source": [
    "#load the eSEX matrices from a PDF file\n",
    "eSEC_matrices = analyse.readPDF(\"esec_martices.pdf\")\n",
    "#print the first eSEC matrix\n",
    "print(eSEC_matrices[0])"
   ],
   "outputs": [],
   "metadata": {}
  },
  {
   "cell_type": "markdown",
   "source": [
    "## Next, we can check the importance of the dissferent rows for all manipulations"
   ],
   "metadata": {}
  },
  {
   "cell_type": "code",
   "execution_count": null,
   "source": [
    "analyse.plotRowRanking(eSEC_matrices)"
   ],
   "outputs": [],
   "metadata": {}
  },
  {
   "cell_type": "markdown",
   "source": [
    "## With the knowlage about the importance of rows we can remove some of them and see if all manipulations are still distinguishable from each other."
   ],
   "metadata": {}
  },
  {
   "cell_type": "code",
   "execution_count": null,
   "source": [
    "#remove only single rows from the row array \n",
    "analyse.checkSimilarRows(eSEC_matrices, combination = 1, rows =  [0, 1, 5, 7, 9])"
   ],
   "outputs": [],
   "metadata": {
    "tags": []
   }
  },
  {
   "cell_type": "code",
   "execution_count": null,
   "source": [
    "#since rmoving row 0 leads to undistingushable manipulations change the rows and check all combinations\n",
    "analyse.checkSimilarRows(eSEC_matrices, combination = 1, rows =  [3, 2, 5, 7, 9])\n",
    "analyse.checkSimilarRows(eSEC_matrices, combination = 2, rows =  [3, 2, 5, 7, 9])\n",
    "analyse.checkSimilarRows(eSEC_matrices, combination = 3, rows =  [3, 2, 5, 7, 9])\n",
    "analyse.checkSimilarRows(eSEC_matrices, combination = 4, rows =  [3, 2, 5, 7, 9])\n",
    "analyse.checkSimilarRows(eSEC_matrices, combination = 5, rows =  [3, 2, 5, 7, 9])"
   ],
   "outputs": [],
   "metadata": {}
  },
  {
   "cell_type": "markdown",
   "source": [
    "## Since this combination of rows don't lead to indistinguishable manipulations even with a total of 5 rows removed, do an analysis of groups. To do so we need matrices with every possible combination of rows removed."
   ],
   "metadata": {}
  },
  {
   "cell_type": "code",
   "execution_count": null,
   "source": [
    "#removes all combinations of rows and saves the results in an folder structure\n",
    "analyse.removeCobinationRowsSave(eSEC_matrices, rows =  [3, 2, 5, 7, 9])"
   ],
   "outputs": [],
   "metadata": {}
  },
  {
   "cell_type": "markdown",
   "source": [
    "## Now we can plot the dissimilarty matrices."
   ],
   "metadata": {}
  },
  {
   "cell_type": "code",
   "execution_count": null,
   "source": [
    "#define the labels in same order as eSEC matrices\n",
    "label = [\"Hit/Flick\", \"Poke\", \"Bore, Rub, Rotate\", \"Lay\", \"Push/ Pull\", \"Stir\", \"Knead\", \"Lever\", \"Cut\", \"Draw\", \"Scoop\", \"Take down\", \"Push down\", \"Break\", \"Uncover(Pick & Place)\", \"Uncover(Push)\", \"Put on top\", \"Put inside\", \"Push on top\", \"Put over\", \"Push over\", \"Push from x to y\", \"Push together\", \"Push apart\", \"Take & invert\", \"Shake\", \"Rotate align\", \"Pour to ground(v1)\", \"Pour to ground(v2)\", \"Pour to cup(v1)\", \"Pour to cup(v2)\", \"Pick & place\", \"Chop\", \"Scratch\", \"Squash\"]\n",
    "#in this case we plot the Dendrogramm and dissimilarity matrix with removed rows 3,2,5\n",
    "analyse.plotDendroDissimi((3,2,5), label)"
   ],
   "outputs": [],
   "metadata": {}
  },
  {
   "cell_type": "code",
   "execution_count": null,
   "source": [
    "#in case we only want to plot the dissimilarity matrix\n",
    "analyse.plotDissi((3,2,5), label)"
   ],
   "outputs": [],
   "metadata": {}
  },
  {
   "cell_type": "code",
   "execution_count": null,
   "source": [
    "#in case we only want to plot the dendrogram\n",
    "analyse.plotDendrogram((3,2,5), label)"
   ],
   "outputs": [],
   "metadata": {}
  },
  {
   "cell_type": "markdown",
   "source": [
    "## In case the folder structure is not there but the dendrogram and dissimilarity is needed we use another function."
   ],
   "metadata": {}
  },
  {
   "cell_type": "code",
   "execution_count": null,
   "source": [
    "#calculate dissimilariy matrix from paper and plot them\n",
    "dissimilartiy_matrix = analyse.getDissimilarityMatrix(eSEC_matrices)\n",
    "analyse.plotDissiFromMatrix(dissimilartiy_matrix, label)\n",
    "analyse.plotDendrogramFromMatrix(dissimilartiy_matrix, label)"
   ],
   "outputs": [],
   "metadata": {}
  },
  {
   "cell_type": "code",
   "execution_count": null,
   "source": [
    "#Plots the dendrogram and dissimilarity matrix for all combinations of removed rows in the \"array\" folder structure.\n",
    "#takes some time\n",
    "analyse.plotAllMatrices(path = \"\", label = label)"
   ],
   "outputs": [],
   "metadata": {}
  },
  {
   "cell_type": "code",
   "execution_count": null,
   "source": [],
   "outputs": [],
   "metadata": {}
  }
 ]
}