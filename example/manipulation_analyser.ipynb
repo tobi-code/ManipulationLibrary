{
 "metadata": {
  "language_info": {
   "codemirror_mode": {
    "name": "ipython",
    "version": 3
   },
   "file_extension": ".py",
   "mimetype": "text/x-python",
   "name": "python",
   "nbconvert_exporter": "python",
   "pygments_lexer": "ipython3",
   "version": "3.8.10"
  },
  "orig_nbformat": 2,
  "kernelspec": {
   "name": "python3",
   "display_name": "Python 3.8.10 64-bit"
  },
  "metadata": {
   "interpreter": {
    "hash": "31f2aee4e71d21fbe5cf8b01ff0e069b9275f58929596ceb00d14d90e3e16cd6"
   }
  },
  "interpreter": {
   "hash": "31f2aee4e71d21fbe5cf8b01ff0e069b9275f58929596ceb00d14d90e3e16cd6"
  }
 },
 "nbformat": 4,
 "nbformat_minor": 2,
 "cells": [
  {
   "cell_type": "code",
   "execution_count": null,
   "source": [
    "#!/usr/bin/env python3\n",
    "# -*- coding: utf-8 -*-\n",
    "\"\"\"\n",
    "Created 2020\n",
    "\n",
    "@author: Tobias Strübing\n",
    "\"\"\"\n",
    "import sys\n",
    "sys.path.insert(0, '..')\n",
    "\n",
    "import manipulation_analyser as manipulate\n",
    "import pandas as pd\n",
    "import numpy as np"
   ],
   "outputs": [],
   "metadata": {}
  },
  {
   "cell_type": "code",
   "execution_count": null,
   "source": [
    "help(manipulate)"
   ],
   "outputs": [],
   "metadata": {}
  },
  {
   "cell_type": "markdown",
   "source": [
    "## With this module MANIAC manipulations can be analysed so that an eSEC/e²SEC matrix is returned at the end. "
   ],
   "metadata": {}
  },
  {
   "cell_type": "code",
   "execution_count": null,
   "source": [
    "#as an example we take the manipulation \"Put_On_Top_10\"\n",
    "#first we define the folder that contains the .pcd files\n",
    "pcl_path     = \"Pushing_06/\"\n",
    "#then we define the folder containing the label files for this manipulation\n",
    "label_path   = \"Pushing_06_labels/\"\n",
    "#now we need the ground label, hand label and support hand label\n",
    "ground_label = 2\n",
    "hand_label   = 11\n",
    "support_hand = None\n",
    "#we want to process with TNR, SSR and DSR \n",
    "relations    = 3\n",
    "#in this manipulation we need to replace some labels because they are wrong labeld in the segemntation step\n",
    "replace      = True\n",
    "old          = [7,9]\n",
    "new          = [6,5]\n",
    "cut_labels = []\n",
    "#since there are labels that should not be there we ignore them in the processing\n",
    "ignored_labels =  [8,3]\n",
    "#as a touching thresold we define 0.07\n",
    "thresh = 0.07"
   ],
   "outputs": [],
   "metadata": {}
  },
  {
   "cell_type": "code",
   "execution_count": null,
   "source": [
    "manipulate.analyse_maniac_manipulation(pcl_path, label_path, ground_label, hand_label, support_hand, relations, replace, old, new, ignored_labels, thresh, cut_labels = cut_labels, debug = True, icp = False, savename = \"Pushing_06\")"
   ],
   "outputs": [],
   "metadata": {}
  },
  {
   "cell_type": "code",
   "execution_count": null,
   "source": [
    "#load the e2SEC matrix from function analyse_maniac_manipulation()\n",
    "e2sec_matrix = np.load(\"e2sec_Pushing_06.npy\")"
   ],
   "outputs": [],
   "metadata": {}
  },
  {
   "cell_type": "code",
   "execution_count": null,
   "source": [
    "#print matrix in pandas form\n",
    "pandas_frame = pd.DataFrame(e2sec_matrix)\n",
    "pandas_frame.rename(index={0:'H,1',1:'H,2',2:'H,3',3:'1,2',4:'1,3',5:'1,G',6:'2,3',7:'2,G',\n",
    "                           8:'H,1',9:'H,2',10:'H,3',11:'1,2',12:'1,3',13:'1,G',14:'2,3',15:'2,G',\n",
    "                           16:'H,1',17:'H,2',18:'H,3',19:'1,2',20:'1,3',21:'1,G',22:'2,3',23:'2,G'}, inplace=True)\n",
    "\n",
    "print (pandas_frame)"
   ],
   "outputs": [],
   "metadata": {}
  },
  {
   "cell_type": "markdown",
   "source": [
    "## There are two new folders in this one: \"event_images\", \"debug_images\"\n",
    "## - \"event_images\" contains the labeled frames that corerespond to the columns of the e2SEC table with the file name of the label as name. (if activated in manipulation_analyser.py)\n",
    "## - \"debug_images\" contains the frames that corerespond to the columns of the e2SEC table as a projektion of the corresponding point ## cloud onto the x-y and x- plane"
   ],
   "metadata": {}
  },
  {
   "cell_type": "code",
   "execution_count": null,
   "source": [],
   "outputs": [],
   "metadata": {}
  }
 ]
}