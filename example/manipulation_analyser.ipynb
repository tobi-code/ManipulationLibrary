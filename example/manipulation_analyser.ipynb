{
 "metadata": {
  "language_info": {
   "codemirror_mode": {
    "name": "ipython",
    "version": 3
   },
   "file_extension": ".py",
   "mimetype": "text/x-python",
   "name": "python",
   "nbconvert_exporter": "python",
   "pygments_lexer": "ipython3",
   "version": "3.8.5-final"
  },
  "orig_nbformat": 2,
  "kernelspec": {
   "name": "python38564bit8cd1669cebfa4a49a3d4499485fe0139",
   "display_name": "Python 3.8.5 64-bit",
   "language": "python"
  }
 },
 "nbformat": 4,
 "nbformat_minor": 2,
 "cells": [
  {
   "cell_type": "code",
   "execution_count": 1,
   "metadata": {},
   "outputs": [],
   "source": [
    "#!/usr/bin/env python3\n",
    "# -*- coding: utf-8 -*-\n",
    "\"\"\"\n",
    "Created 2020\n",
    "\n",
    "@author: Tobias Strübing\n",
    "\"\"\"\n",
    "import sys\n",
    "sys.path.insert(0, '..')\n",
    "\n",
    "import manipulation_analyser as manipulate\n",
    "import pandas as pd\n",
    "import numpy as np"
   ]
  },
  {
   "cell_type": "code",
   "execution_count": 2,
   "metadata": {},
   "outputs": [
    {
     "output_type": "stream",
     "name": "stdout",
     "text": [
      "Help on module manipulation_analyser:\n\nNAME\n    manipulation_analyser - Created 2020\n\nDESCRIPTION\n    @author: Tobias Strübing\n\nFUNCTIONS\n    analyse_maniac_manipulation(pcl_path, label_path, ground_label, hand_label, support_hand, relations, replace, old, new, ignored_labels, thresh, cutted_labels=[], debug=False, cython=False, savename='')\n        Analyses a complete manipulation from the MANIAC dataset. Therefore, it needs the path\n        of the folder that contains all the .pcd files (pcl_path) and the label files(label_path). \n        The other parameters are listed below.\n        This functions returns and saves the calculated e2SEC matrix.\n        \n        Parameters:\n            * pcl_path: path to pcl files (string)\n            * label_path: path to label files (string)\n            * ground_label: label of the ground (int)\n            * hand_label: label of the hand (int)\n            * support_hand: label of the support hand (int)\n            * relations: relations to proceed in the computation 1:T/N; 2:T/N, SSR; 3:T/N, SSR, DSR (int)\n            * replace: True if labels should be replaces, False otherwise (bool)\n            * old: old labels to raplace [int]\n            * new: new labels that will replace old labels [int]\n            * ignored_labels: labels that will be ignored in this manipulation [int]\n            * thresh: threshold that defines distance for touching (float)\n            * cython: if true a self created filter will be used (experimental)\n            * savename: name of the saved e2SEC file\n        \n        Returns:\n            e2SEC matrix in the current folder as \"e2sec_matrix.npy\"\n    \n    esec_to_e2sec(esec_array)\n        Takes an eSEC matrix as input and outputs the calculated e2SEC matrix.\n        \n        Parameters:\n            * esec_array: eSEC array\n            \n        Returns:\n            * eSEC array: array that contains the eSEC matrix\n            * e2SEC array: array that contains the e2SEC matrix\n    \n    xor(a, b, /)\n        Same as a ^ b.\n\nDATA\n    absent_o1 = False\n    absent_o2 = False\n    absent_o3 = False\n    count1 = 0\n    count2 = 0\n    count3 = 0\n    count_esec = 0\n    count_ground = 0\n    ground = 0\n    hand_label_inarray = -1\n    internal_count = 0\n    o1 = None\n    o1_label = 0\n    o2 = None\n    o2_label = 0\n    o3 = None\n    o3_label = 0\n    previous_array = None\n    total_unique_labels = 0\n\nFILE\n    /home/tobi/ownCloud/ManipulationLibrary/manipulation_analyser.py\n\n\n"
     ]
    }
   ],
   "source": [
    "help(manipulate)"
   ]
  },
  {
   "source": [
    "With this module MANIAC manipulations can be analysed so that an eSEC/e²SEC matrix is returned at the end. \n",
    "## WARNING: work in progress"
   ],
   "cell_type": "markdown",
   "metadata": {}
  },
  {
   "cell_type": "code",
   "execution_count": 3,
   "metadata": {},
   "outputs": [],
   "source": [
    "#as an example we take the manipulation \"Put_On_Top_10\"\n",
    "#first we define the folder that contains the .pcd files\n",
    "pcl_path     = \"Put_on_Top_10/\"\n",
    "#then we define the folder containing the label files for this manipulation\n",
    "label_path   = \"Put_on_Top_10_labels/\"\n",
    "#now we need the ground label, hand label and support hand label\n",
    "ground_label = 1\n",
    "hand_label   = 7\n",
    "support_hand = None\n",
    "#we want to process with TNR, SSR and DSR \n",
    "relations    = 3\n",
    "#in this manipulation we need to replace some labels because they are wrong labeld in the segemntation step\n",
    "replace      = True\n",
    "old          = [5]\n",
    "new          = [4]\n",
    "cutted_labels = []\n",
    "#since there are labels that should not be there we ignore them in the processing\n",
    "ignored_labels =  [29,25,28,18]\n",
    "#as a touching thresold we define 0.1 m\n",
    "thresh = 0.2"
   ]
  },
  {
   "cell_type": "code",
   "execution_count": 4,
   "metadata": {},
   "outputs": [
    {
     "output_type": "stream",
     "name": "stderr",
     "text": [
      " 18% (49 of 266) |####                   | Elapsed Time: 0:00:01 ETA:   0:00:06b'U' False\n",
      " 19% (52 of 266) |####                   | Elapsed Time: 0:00:01 ETA:   0:00:07b'U' False\n",
      " 20% (55 of 266) |####                   | Elapsed Time: 0:00:02 ETA:   0:00:08b'U' False\n",
      "o1 found!, label: 3\n",
      "o2 found!, label: 4\n",
      "b'T' False\n",
      " 21% (58 of 266) |#####                  | Elapsed Time: 0:00:03 ETA:   0:00:19b'T' False\n",
      " 24% (64 of 266) |#####                  | Elapsed Time: 0:00:04 ETA:   0:00:48b'T' False\n",
      " 25% (67 of 266) |#####                  | Elapsed Time: 0:00:04 ETA:   0:00:42b'T' False\n",
      " 26% (70 of 266) |######                 | Elapsed Time: 0:00:05 ETA:   0:00:33b'T' False\n",
      " 27% (73 of 266) |######                 | Elapsed Time: 0:00:05 ETA:   0:00:30b'T' False\n",
      " 28% (76 of 266) |######                 | Elapsed Time: 0:00:05 ETA:   0:00:29b'T' False\n",
      " 29% (79 of 266) |######                 | Elapsed Time: 0:00:06 ETA:   0:00:22b'T' False\n",
      " 30% (82 of 266) |#######                | Elapsed Time: 0:00:06 ETA:   0:00:22b'T' False\n",
      "b'T' False\n",
      " 33% (88 of 266) |#######                | Elapsed Time: 0:00:07 ETA:   0:00:30b'T' False\n",
      " 34% (91 of 266) |#######                | Elapsed Time: 0:00:08 ETA:   0:00:29b'T' False\n",
      " 35% (94 of 266) |########               | Elapsed Time: 0:00:08 ETA:   0:00:26b'T' False\n",
      " 36% (97 of 266) |########               | Elapsed Time: 0:00:08 ETA:   0:00:26b'T' False\n",
      " 37% (100 of 266) |########              | Elapsed Time: 0:00:09 ETA:   0:00:26b'T' False\n",
      " 38% (103 of 266) |########              | Elapsed Time: 0:00:09 ETA:   0:00:21b'T' False\n",
      " 39% (106 of 266) |########              | Elapsed Time: 0:00:10 ETA:   0:00:20b'T' False\n",
      " 40% (109 of 266) |#########             | Elapsed Time: 0:00:10 ETA:   0:00:19b'T' False\n",
      " 42% (112 of 266) |#########             | Elapsed Time: 0:00:10 ETA:   0:00:20b'T' False\n",
      " 43% (115 of 266) |#########             | Elapsed Time: 0:00:11 ETA:   0:00:19b'T' False\n",
      "b'T' False\n",
      " 45% (121 of 266) |##########            | Elapsed Time: 0:00:12 ETA:   0:00:25b'T' False\n",
      " 46% (124 of 266) |##########            | Elapsed Time: 0:00:13 ETA:   0:00:24b'T' False\n",
      " 47% (127 of 266) |##########            | Elapsed Time: 0:00:13 ETA:   0:00:24b'T' False\n",
      " 48% (130 of 266) |##########            | Elapsed Time: 0:00:13 ETA:   0:00:21b'T' False\n",
      "b'T' False\n",
      " 51% (136 of 266) |###########           | Elapsed Time: 0:00:14 ETA:   0:00:19b'T' False\n",
      " 52% (139 of 266) |###########           | Elapsed Time: 0:00:15 ETA:   0:00:18b'T' False\n",
      "b'T' False\n",
      " 54% (145 of 266) |###########           | Elapsed Time: 0:00:16 ETA:   0:00:22b'T' False\n",
      " 55% (148 of 266) |############          | Elapsed Time: 0:00:16 ETA:   0:00:17b'T' False\n",
      " 56% (151 of 266) |############          | Elapsed Time: 0:00:17 ETA:   0:00:16b'T' False\n",
      " 57% (154 of 266) |############          | Elapsed Time: 0:00:17 ETA:   0:00:15b'T' False\n",
      " 59% (157 of 266) |############          | Elapsed Time: 0:00:17 ETA:   0:00:14b'T' False\n",
      "b'T' False\n",
      " 60% (160 of 266) |#############         | Elapsed Time: 0:00:18 ETA:   0:00:14b'T' False\n",
      " 61% (163 of 266) |#############         | Elapsed Time: 0:00:19 ETA:   0:00:19b'T' False\n",
      " 62% (166 of 266) |#############         | Elapsed Time: 0:00:20 ETA:   0:00:27b'T' False\n",
      " 64% (172 of 266) |##############        | Elapsed Time: 0:00:21 ETA:   0:00:20b'T' False\n",
      " 65% (175 of 266) |##############        | Elapsed Time: 0:00:21 ETA:   0:00:15b'T' False\n",
      " 66% (178 of 266) |##############        | Elapsed Time: 0:00:21 ETA:   0:00:13b'T' False\n",
      " 68% (181 of 266) |##############        | Elapsed Time: 0:00:21 ETA:   0:00:12b'T' False\n",
      " 69% (184 of 266) |###############       | Elapsed Time: 0:00:22 ETA:   0:00:09b'T' False\n",
      " 70% (187 of 266) |###############       | Elapsed Time: 0:00:22 ETA:   0:00:08b'T' False\n",
      " 71% (190 of 266) |###############       | Elapsed Time: 0:00:22 ETA:   0:00:08b'T' False\n",
      " 72% (193 of 266) |###############       | Elapsed Time: 0:00:22 ETA:   0:00:06b'T' False\n",
      "b'T' False\n",
      " 73% (196 of 266) |################      | Elapsed Time: 0:00:23 ETA:   0:00:08b'T' False\n",
      " 75% (202 of 266) |################      | Elapsed Time: 0:00:24 ETA:   0:00:11b'T' False\n",
      " 77% (205 of 266) |################      | Elapsed Time: 0:00:24 ETA:   0:00:10b'T' False\n",
      " 78% (208 of 266) |#################     | Elapsed Time: 0:00:25 ETA:   0:00:08b'T' False\n",
      " 79% (211 of 266) |#################     | Elapsed Time: 0:00:25 ETA:   0:00:07b'T' False\n",
      " 80% (214 of 266) |#################     | Elapsed Time: 0:00:25 ETA:   0:00:05b'T' False\n",
      " 81% (217 of 266) |#################     | Elapsed Time: 0:00:25 ETA:   0:00:05b'T' False\n",
      " 82% (220 of 266) |##################    | Elapsed Time: 0:00:26 ETA:   0:00:04b'T' False\n",
      " 83% (223 of 266) |##################    | Elapsed Time: 0:00:26 ETA:   0:00:04b'T' False\n",
      " 84% (226 of 266) |##################    | Elapsed Time: 0:00:26 ETA:   0:00:03b'T' False\n",
      " 86% (229 of 266) |##################    | Elapsed Time: 0:00:26 ETA:   0:00:03b'T' False\n",
      " 87% (232 of 266) |###################   | Elapsed Time: 0:00:27 ETA:   0:00:02b'T' False\n",
      " 88% (235 of 266) |###################   | Elapsed Time: 0:00:27 ETA:   0:00:02b'T' False\n",
      "b'T' False\n",
      " 90% (241 of 266) |###################   | Elapsed Time: 0:00:28 ETA:   0:00:02b'T' False\n",
      " 91% (244 of 266) |####################  | Elapsed Time: 0:00:28 ETA:   0:00:02b'T' False\n",
      " 92% (247 of 266) |####################  | Elapsed Time: 0:00:29 ETA:   0:00:02b'T' False\n",
      " 93% (250 of 266) |####################  | Elapsed Time: 0:00:29 ETA:   0:00:01b'T' False\n",
      "b'T' False\n",
      " 96% (256 of 266) |##################### | Elapsed Time: 0:00:30 ETA:   0:00:01b'T' False\n",
      "b'T' False\n",
      "100% (266 of 266) |######################| Elapsed Time: 0:00:31 Time:  0:00:31\n"
     ]
    }
   ],
   "source": [
    "manipulate.analyse_maniac_manipulation(pcl_path, label_path, ground_label, hand_label, support_hand, relations, replace, old, new, ignored_labels, thresh, cutted_labels = cutted_labels, debug = True, cython = True, savename = \"put_on_top\")"
   ]
  },
  {
   "cell_type": "code",
   "execution_count": 5,
   "metadata": {},
   "outputs": [],
   "source": [
    "#load the e2SEC matrix from function analyse_maniac_manipulation()\n",
    "e2sec_matrix = np.load(\"e2sec_put_on_top.npy\")"
   ]
  },
  {
   "cell_type": "code",
   "execution_count": 6,
   "metadata": {},
   "outputs": [
    {
     "output_type": "stream",
     "name": "stdout",
     "text": [
      "           0        1        2        3        4        5        6\nH,1     b'T'     b'T'     b'T'     b'T'     b'T'     b'N'     b'N'\nH,2     b'N'     b'N'     b'T'     b'N'     b'T'     b'T'     b'N'\nH,3     b'U'     b'U'     b'U'     b'U'     b'U'     b'U'     b'U'\n1,2     b'T'     b'T'     b'T'     b'T'     b'T'     b'T'     b'T'\n1,3     b'U'     b'U'     b'U'     b'U'     b'U'     b'U'     b'U'\n1,G     b'T'     b'T'     b'T'     b'T'     b'T'     b'T'     b'T'\n2,3     b'U'     b'U'     b'U'     b'U'     b'U'     b'U'     b'U'\n2,G     b'T'     b'T'     b'T'     b'T'     b'T'     b'T'     b'T'\nH,1  b'VART'  b'VART'  b'VART'  b'VART'  b'VART'   b'VAR'   b'VAR'\nH,2   b'HAR'   b'HAR'  b'HART'   b'HAR'  b'HART'  b'HART'   b'HAR'\nH,3     b'U'     b'U'     b'U'     b'U'     b'U'     b'U'     b'U'\n1,2  b'VART'  b'VART'  b'VART'  b'VART'  b'VART'  b'VART'  b'VART'\n1,3     b'U'     b'U'     b'U'     b'U'     b'U'     b'U'     b'U'\n1,G  b'HART'  b'HART'  b'HART'  b'HART'  b'HART'  b'HART'  b'HART'\n2,3     b'U'     b'U'     b'U'     b'U'     b'U'     b'U'     b'U'\n2,G  b'HART'  b'HART'  b'HART'  b'HART'  b'HART'  b'HART'  b'HART'\nH,1     b'U'    b'MA'    b'MA'    b'MA'    b'MA'     b'S'     b'S'\nH,2     b'U'     b'S'    b'MA'     b'S'    b'MA'    b'MA'     b'S'\nH,3     b'U'     b'U'     b'U'     b'U'     b'U'     b'U'     b'U'\n1,2     b'U'    b'MA'    b'MA'    b'MA'    b'MA'    b'MA'    b'MA'\n1,3     b'U'     b'U'     b'U'     b'U'     b'U'     b'U'     b'U'\n1,G     b'U'    b'MA'    b'MA'    b'MA'    b'MA'    b'MA'    b'MA'\n2,3     b'U'     b'U'     b'U'     b'U'     b'U'     b'U'     b'U'\n2,G     b'U'    b'MA'    b'MA'    b'MA'    b'MA'    b'MA'    b'MA'\n"
     ]
    }
   ],
   "source": [
    "#print matrix in pandas form\n",
    "pandas_frame = pd.DataFrame(e2sec_matrix)\n",
    "pandas_frame.rename(index={0:'H,1',1:'H,2',2:'H,3',3:'1,2',4:'1,3',5:'1,G',6:'2,3',7:'2,G',\n",
    "                           8:'H,1',9:'H,2',10:'H,3',11:'1,2',12:'1,3',13:'1,G',14:'2,3',15:'2,G',\n",
    "                           16:'H,1',17:'H,2',18:'H,3',19:'1,2',20:'1,3',21:'1,G',22:'2,3',23:'2,G'}, inplace=True)\n",
    "\n",
    "print (pandas_frame)"
   ]
  },
  {
   "source": [
    "There are two new folders in this one: \"event_images\", \"debug_images\"\n",
    "- \"event_images\" contains the frames that corerespond to the columns of the e2SEC table with the file name of the label as name.\n",
    "- \"debug_images\" contains the frames that corerespond to the columns of the e2SEC table as a projektion of the corresponding point cloud onto the x-y and x- plane"
   ],
   "cell_type": "markdown",
   "metadata": {}
  },
  {
   "cell_type": "code",
   "execution_count": 10,
   "metadata": {},
   "outputs": [
    {
     "output_type": "stream",
     "name": "stdout",
     "text": [
      "Jo\n"
     ]
    }
   ],
   "source": []
  },
  {
   "cell_type": "code",
   "execution_count": null,
   "metadata": {},
   "outputs": [],
   "source": []
  }
 ]
}