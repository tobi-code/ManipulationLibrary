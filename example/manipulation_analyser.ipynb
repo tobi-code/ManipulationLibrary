{
 "metadata": {
  "language_info": {
   "codemirror_mode": {
    "name": "ipython",
    "version": 3
   },
   "file_extension": ".py",
   "mimetype": "text/x-python",
   "name": "python",
   "nbconvert_exporter": "python",
   "pygments_lexer": "ipython3",
   "version": "3.8.10"
  },
  "orig_nbformat": 2,
  "kernelspec": {
   "name": "python3",
   "display_name": "Python 3.8.10 64-bit"
  },
  "metadata": {
   "interpreter": {
    "hash": "31f2aee4e71d21fbe5cf8b01ff0e069b9275f58929596ceb00d14d90e3e16cd6"
   }
  },
  "interpreter": {
   "hash": "31f2aee4e71d21fbe5cf8b01ff0e069b9275f58929596ceb00d14d90e3e16cd6"
  }
 },
 "nbformat": 4,
 "nbformat_minor": 2,
 "cells": [
  {
   "cell_type": "code",
   "execution_count": 1,
   "source": [
    "#!/usr/bin/env python3\n",
    "# -*- coding: utf-8 -*-\n",
    "\"\"\"\n",
    "Created 2020\n",
    "\n",
    "@author: Tobias Strübing\n",
    "\"\"\"\n",
    "import sys\n",
    "sys.path.insert(0, '..')\n",
    "\n",
    "import manipulation_analyser as manipulate\n",
    "import pandas as pd\n",
    "import numpy as np"
   ],
   "outputs": [],
   "metadata": {}
  },
  {
   "cell_type": "code",
   "execution_count": 2,
   "source": [
    "help(manipulate)"
   ],
   "outputs": [
    {
     "output_type": "stream",
     "name": "stdout",
     "text": [
      "Help on module manipulation_analyser:\n",
      "\n",
      "NAME\n",
      "    manipulation_analyser - Created 2020-2021\n",
      "\n",
      "DESCRIPTION\n",
      "    @author: Tobias Strübing\n",
      "\n",
      "FUNCTIONS\n",
      "    analyse_maniac_manipulation(pcl_path, label_path, ground_label, hand_label, support_hand, relations, replace, old, new, ignored_labels, thresh, cut_labels=[], debug=False, cython=True, icp=False, savename='')\n",
      "        Analyses a complete manipulation from the MANIAC dataset. Therefore, it needs the path\n",
      "        of the folder that contains all the .pcd files (pcl_path) and the label files(label_path). \n",
      "        The other parameters are listed below.\n",
      "        This function returns and saves the calculated e2SEC matrix.\n",
      "        \n",
      "        Parameters:\n",
      "            * pcl_path: path to pcl files (string)\n",
      "            * label_path: path to label files (string)\n",
      "            * ground_label: label of the ground (int)\n",
      "            * hand_label: label of the hand (int)\n",
      "            * support_hand: label of the support hand (int)\n",
      "            * relations: relations to proceed in the computation 1:T/N; 2:T/N, SSR; 3:T/N, SSR, DSR (int)\n",
      "            * replace: True if labels should be replaced, False otherwise (bool)\n",
      "            * old: old labels to replace (int)\n",
      "            * new: new labels that will replace old labels (int)\n",
      "            * ignored_labels: labels that will be ignored in this manipulation (int)\n",
      "            * thresh: threshold that defines distance for touching (float)\n",
      "            * cython: if true a self created filter will be used (bool)\n",
      "            * savename: name of the saved e2SEC file (string)\n",
      "        \n",
      "        Returns:\n",
      "            e2SEC matrix in the current folder as \"e2sec_matrix.npy\"\n",
      "    \n",
      "    esec_to_e2sec(esec_array, relations)\n",
      "        Takes an eSEC matrix as input and outputs the calculated e2SEC matrix.\n",
      "        \n",
      "        Parameters:\n",
      "            * esec_array: eSEC array\n",
      "            \n",
      "        Returns:\n",
      "            * eSEC array: array that contains the eSEC matrix\n",
      "            * e2SEC array: array that contains the e2SEC matrix\n",
      "    \n",
      "    xor(a, b, /)\n",
      "        Same as a ^ b.\n",
      "\n",
      "DATA\n",
      "    absent_o1 = False\n",
      "    absent_o2 = False\n",
      "    absent_o3 = False\n",
      "    ao1 = 0\n",
      "    ao2 = 0\n",
      "    ao3 = 0\n",
      "    count1 = 0\n",
      "    count2 = 0\n",
      "    count3 = 0\n",
      "    count_esec = 0\n",
      "    count_ground = 0\n",
      "    final_columns = []\n",
      "    first_03 = None\n",
      "    first_o1 = None\n",
      "    first_o2 = None\n",
      "    ground = 0\n",
      "    hand_label_inarray = -1\n",
      "    internal_count = 0\n",
      "    o1 = None\n",
      "    o1_label = 0\n",
      "    o2 = None\n",
      "    o2_label = 0\n",
      "    o3 = None\n",
      "    o3_label = 0\n",
      "    previous_array = None\n",
      "    total_unique_labels = 0\n",
      "\n",
      "FILE\n",
      "    /home/tobi/ownCloud/ManipulationLibrary/manipulation_analyser.py\n",
      "\n",
      "\n"
     ]
    }
   ],
   "metadata": {}
  },
  {
   "cell_type": "markdown",
   "source": [
    "## With this module MANIAC manipulations can be analysed so that an eSEC/e²SEC matrix is returned at the end. "
   ],
   "metadata": {}
  },
  {
   "cell_type": "code",
   "execution_count": 3,
   "source": [
    "#as an example we take the manipulation \"Put_On_Top_10\"\n",
    "#first we define the folder that contains the .pcd files\n",
    "pcl_path     = \"Pushing_06/\"\n",
    "#then we define the folder containing the label files for this manipulation\n",
    "label_path   = \"Pushing_06_labels/\"\n",
    "#now we need the ground label, hand label and support hand label\n",
    "ground_label = 2\n",
    "hand_label   = 11\n",
    "support_hand = None\n",
    "#we want to process with TNR, SSR and DSR \n",
    "relations    = 3\n",
    "#in this manipulation we need to replace some labels because they are wrong labeld in the segemntation step\n",
    "replace      = True\n",
    "old          = [7,9]\n",
    "new          = [6,5]\n",
    "cut_labels = []\n",
    "#since there are labels that should not be there we ignore them in the processing\n",
    "ignored_labels =  [8,3]\n",
    "#as a touching thresold we define 0.07\n",
    "thresh = 0.07"
   ],
   "outputs": [],
   "metadata": {}
  },
  {
   "cell_type": "code",
   "execution_count": 6,
   "source": [
    "#as an example we take the manipulation \"Put_On_Top_10\"\n",
    "#first we define the folder that contains the .pcd files\n",
    "pcl_path     = \"/media/tobi/Chopping/Cutting_04/\"\n",
    "#then we define the folder containing the label files for this manipulation\n",
    "label_path   = \"/media/tobi/Chopping/Cutting_04_labels/\"\n",
    "#now we need the ground label, hand label and support hand label\n",
    "ground_label = 1\n",
    "hand_label   = 5\n",
    "support_hand = 17\n",
    "#we want to process with TNR, SSR and DSR \n",
    "relations    = 3\n",
    "#in this manipulation we need to replace some labels because they are wrong labeld in the segemntation step\n",
    "replace      = True\n",
    "old          = [6,8,19]\n",
    "new          = [4,7,13]\n",
    "cut_labels = [99]\n",
    "#since there are labels that should not be there we ignore them in the processing\n",
    "ignored_labels =  [16,20,4,7]\n",
    "#as a touching thresold we define 0.1 m\n",
    "thresh = 0.1"
   ],
   "outputs": [],
   "metadata": {}
  },
  {
   "cell_type": "code",
   "execution_count": 8,
   "source": [
    "manipulate.analyse_maniac_manipulation(pcl_path, label_path, ground_label, hand_label, support_hand, relations, replace, old, new, ignored_labels, thresh, cut_labels = cut_labels, debug = True, icp = True, savename = \"Pushing_06\")"
   ],
   "outputs": [
    {
     "output_type": "stream",
     "name": "stderr",
     "text": [
      "  5% (34 of 622) |#                      | Elapsed Time: 0:00:34 ETA:   0:07:24"
     ]
    },
    {
     "output_type": "stream",
     "name": "stdout",
     "text": [
      "o1 found!, label: 10\n"
     ]
    },
    {
     "output_type": "stream",
     "name": "stderr",
     "text": [
      " 18% (118 of 622) |####                  | Elapsed Time: 0:01:57 ETA:   0:08:54"
     ]
    },
    {
     "output_type": "stream",
     "name": "stdout",
     "text": [
      "o2 found!, label: 12\n"
     ]
    },
    {
     "output_type": "stream",
     "name": "stderr",
     "text": [
      " 60% (379 of 622) |#############         | Elapsed Time: 0:08:09 ETA:   0:05:39"
     ]
    },
    {
     "output_type": "stream",
     "name": "stdout",
     "text": [
      "o3 found!, label: 99\n"
     ]
    },
    {
     "output_type": "stream",
     "name": "stderr",
     "text": [
      "100% (622 of 622) |######################| Elapsed Time: 0:12:33 Time:  0:12:33\n"
     ]
    }
   ],
   "metadata": {}
  },
  {
   "cell_type": "code",
   "execution_count": 5,
   "source": [
    "#load the e2SEC matrix from function analyse_maniac_manipulation()\n",
    "e2sec_matrix = np.load(\"e2sec_Pushing_06.npy\")"
   ],
   "outputs": [
    {
     "output_type": "stream",
     "name": "stdout",
     "text": [
      "(24, 17)\n"
     ]
    }
   ],
   "metadata": {}
  },
  {
   "cell_type": "code",
   "execution_count": 6,
   "source": [
    "#print matrix in pandas form\n",
    "pandas_frame = pd.DataFrame(e2sec_matrix)\n",
    "pandas_frame.rename(index={0:'H,1',1:'H,2',2:'H,3',3:'1,2',4:'1,3',5:'1,G',6:'2,3',7:'2,G',\n",
    "                           8:'H,1',9:'H,2',10:'H,3',11:'1,2',12:'1,3',13:'1,G',14:'2,3',15:'2,G',\n",
    "                           16:'H,1',17:'H,2',18:'H,3',19:'1,2',20:'1,3',21:'1,G',22:'2,3',23:'2,G'}, inplace=True)\n",
    "\n",
    "print (pandas_frame)"
   ],
   "outputs": [
    {
     "output_type": "stream",
     "name": "stdout",
     "text": [
      "          0        1        2        3        4        5        6        7   \\\n",
      "H,1     b'T'     b'T'     b'T'     b'T'     b'T'     b'T'     b'T'     b'T'   \n",
      "H,2     b'U'     b'U'     b'U'     b'U'     b'U'     b'U'     b'U'     b'U'   \n",
      "H,3     b'U'     b'U'     b'U'     b'U'     b'U'     b'U'     b'U'     b'U'   \n",
      "1,2     b'U'     b'U'     b'U'     b'U'     b'U'     b'U'     b'U'     b'U'   \n",
      "1,3     b'U'     b'U'     b'U'     b'U'     b'U'     b'U'     b'U'     b'U'   \n",
      "1,G     b'T'     b'T'     b'T'     b'T'     b'T'     b'T'     b'T'     b'T'   \n",
      "2,3     b'U'     b'U'     b'U'     b'U'     b'U'     b'U'     b'U'     b'U'   \n",
      "2,G     b'U'     b'U'     b'U'     b'U'     b'U'     b'U'     b'U'     b'U'   \n",
      "H,1  b'HART'  b'HART'  b'HART'  b'HART'  b'HART'  b'HART'  b'HART'  b'HART'   \n",
      "H,2     b'U'     b'U'     b'U'     b'U'     b'U'     b'U'     b'U'     b'U'   \n",
      "H,3     b'U'     b'U'     b'U'     b'U'     b'U'     b'U'     b'U'     b'U'   \n",
      "1,2     b'U'     b'U'     b'U'     b'U'     b'U'     b'U'     b'U'     b'U'   \n",
      "1,3     b'U'     b'U'     b'U'     b'U'     b'U'     b'U'     b'U'     b'U'   \n",
      "1,G  b'VART'  b'VART'  b'VART'  b'VART'  b'VART'  b'VART'  b'VART'  b'VART'   \n",
      "2,3     b'U'     b'U'     b'U'     b'U'     b'U'     b'U'     b'U'     b'U'   \n",
      "2,G     b'U'     b'U'     b'U'     b'U'     b'U'     b'U'     b'U'     b'U'   \n",
      "H,1    b'MT'    b'HT'    b'MT'    b'HT'    b'MT'    b'HT'    b'MT'    b'MT'   \n",
      "H,2     b'U'     b'U'     b'U'     b'U'     b'U'     b'U'     b'U'     b'U'   \n",
      "H,3     b'U'     b'U'     b'U'     b'U'     b'U'     b'U'     b'U'     b'U'   \n",
      "1,2     b'U'     b'U'     b'U'     b'U'     b'U'     b'U'     b'U'     b'U'   \n",
      "1,3     b'U'     b'U'     b'U'     b'U'     b'U'     b'U'     b'U'     b'U'   \n",
      "1,G    b'HT'    b'HT'    b'HT'    b'HT'    b'HT'    b'HT'    b'HT'    b'MT'   \n",
      "2,3     b'U'     b'U'     b'U'     b'U'     b'U'     b'U'     b'U'     b'U'   \n",
      "2,G     b'U'     b'U'     b'U'     b'U'     b'U'     b'U'     b'U'     b'U'   \n",
      "\n",
      "          8        9        10       11       12       13       14       15  \\\n",
      "H,1     b'T'     b'T'     b'T'     b'T'     b'T'     b'T'     b'T'     b'N'   \n",
      "H,2     b'U'     b'U'     b'U'     b'U'     b'U'     b'U'     b'U'     b'U'   \n",
      "H,3     b'U'     b'U'     b'U'     b'U'     b'U'     b'U'     b'U'     b'U'   \n",
      "1,2     b'U'     b'U'     b'U'     b'U'     b'U'     b'U'     b'U'     b'U'   \n",
      "1,3     b'U'     b'U'     b'U'     b'U'     b'U'     b'U'     b'U'     b'U'   \n",
      "1,G     b'T'     b'T'     b'T'     b'T'     b'T'     b'T'     b'T'     b'T'   \n",
      "2,3     b'U'     b'U'     b'U'     b'U'     b'U'     b'U'     b'U'     b'U'   \n",
      "2,G     b'U'     b'U'     b'U'     b'U'     b'U'     b'U'     b'U'     b'U'   \n",
      "H,1  b'HART'  b'HART'  b'HART'  b'HART'  b'HART'  b'HART'  b'HART'   b'HAR'   \n",
      "H,2     b'U'     b'U'     b'U'     b'U'     b'U'     b'U'     b'U'     b'U'   \n",
      "H,3     b'U'     b'U'     b'U'     b'U'     b'U'     b'U'     b'U'     b'U'   \n",
      "1,2     b'U'     b'U'     b'U'     b'U'     b'U'     b'U'     b'U'     b'U'   \n",
      "1,3     b'U'     b'U'     b'U'     b'U'     b'U'     b'U'     b'U'     b'U'   \n",
      "1,G  b'VART'  b'VART'  b'VART'  b'VART'  b'VART'  b'VART'  b'VART'  b'VART'   \n",
      "2,3     b'U'     b'U'     b'U'     b'U'     b'U'     b'U'     b'U'     b'U'   \n",
      "2,G     b'U'     b'U'     b'U'     b'U'     b'U'     b'U'     b'U'     b'U'   \n",
      "H,1    b'HT'    b'MT'    b'MT'    b'MT'    b'MT'    b'HT'    b'MT'    b'MA'   \n",
      "H,2     b'U'     b'U'     b'U'     b'U'     b'U'     b'U'     b'U'     b'U'   \n",
      "H,3     b'U'     b'U'     b'U'     b'U'     b'U'     b'U'     b'U'     b'U'   \n",
      "1,2     b'U'     b'U'     b'U'     b'U'     b'U'     b'U'     b'U'     b'U'   \n",
      "1,3     b'U'     b'U'     b'U'     b'U'     b'U'     b'U'     b'U'     b'U'   \n",
      "1,G    b'HT'    b'MT'    b'HT'    b'MT'    b'HT'    b'HT'    b'HT'    b'HT'   \n",
      "2,3     b'U'     b'U'     b'U'     b'U'     b'U'     b'U'     b'U'     b'U'   \n",
      "2,G     b'U'     b'U'     b'U'     b'U'     b'U'     b'U'     b'U'     b'U'   \n",
      "\n",
      "          16  \n",
      "H,1     b'N'  \n",
      "H,2     b'U'  \n",
      "H,3     b'U'  \n",
      "1,2     b'U'  \n",
      "1,3     b'U'  \n",
      "1,G     b'T'  \n",
      "2,3     b'U'  \n",
      "2,G     b'U'  \n",
      "H,1   b'VAR'  \n",
      "H,2     b'U'  \n",
      "H,3     b'U'  \n",
      "1,2     b'U'  \n",
      "1,3     b'U'  \n",
      "1,G  b'VART'  \n",
      "2,3     b'U'  \n",
      "2,G     b'U'  \n",
      "H,1    b'MA'  \n",
      "H,2     b'U'  \n",
      "H,3     b'U'  \n",
      "1,2     b'U'  \n",
      "1,3     b'U'  \n",
      "1,G    b'HT'  \n",
      "2,3     b'U'  \n",
      "2,G     b'U'  \n"
     ]
    }
   ],
   "metadata": {}
  },
  {
   "cell_type": "markdown",
   "source": [
    "## There are two new folders in this one: \"event_images\", \"debug_images\"\n",
    "## - \"event_images\" contains the frames that corerespond to the columns of the e2SEC table with the file name of the label as name.\n",
    "## - \"debug_images\" contains the frames that corerespond to the columns of the e2SEC table as a projektion of the corresponding point ## cloud onto the x-y and x- plane"
   ],
   "metadata": {}
  },
  {
   "cell_type": "code",
   "execution_count": null,
   "source": [],
   "outputs": [],
   "metadata": {}
  }
 ]
}