{
 "metadata": {
  "language_info": {
   "codemirror_mode": {
    "name": "ipython",
    "version": 3
   },
   "file_extension": ".py",
   "mimetype": "text/x-python",
   "name": "python",
   "nbconvert_exporter": "python",
   "pygments_lexer": "ipython3",
   "version": "3.6.9-final"
  },
  "orig_nbformat": 2,
  "kernelspec": {
   "name": "python36964bit5d8422c4dbe24426bc04a20c0c34e003",
   "display_name": "Python 3.6.9 64-bit"
  }
 },
 "nbformat": 4,
 "nbformat_minor": 2,
 "cells": [
  {
   "cell_type": "code",
   "execution_count": 1,
   "metadata": {},
   "outputs": [],
   "source": [
    "#!/usr/bin/env python3\n",
    "# -*- coding: utf-8 -*-\n",
    "\"\"\"\n",
    "Created 2020\n",
    "\n",
    "@author: Tobias Strübing\n",
    "\"\"\"\n",
    "import sys\n",
    "sys.path.insert(1, '..')\n",
    "\n",
    "import manipulation_analyser as manipulate\n",
    "import pandas as pd\n",
    "import numpy as np"
   ]
  },
  {
   "cell_type": "code",
   "execution_count": 2,
   "metadata": {},
   "outputs": [
    {
     "output_type": "stream",
     "name": "stdout",
     "text": [
      "Help on module manipulation_analyser:\n\nNAME\n    manipulation_analyser - Created 2020\n\nDESCRIPTION\n    @author: Tobias Strübing\n\nFUNCTIONS\n    analyse_maniac_manipulation(pcl_path, label_path, ground_label, hand_label, support_hand, relations, replace, old, new, ignored_labels, thresh, debug=False)\n        Analyses a complete manipulation from the MANIAC dataset. Therefore, it needs the path\n        of the folder that contains all the .pcd files (pcl_path) and the label files(label_path). \n        The other parameters are listed below.\n        This functions returns and saves the calculated e2SEC matrix.\n        \n        Parameters:\n            * pcl_path: path to pcl files (string)\n            * label_path: path to label files (string)\n            * ground_label: label of the ground (int)\n            * hand_label: label of the hand (int)\n            * support_hand: label of the support hand (int)\n            * relations: relations to proceed in the computation 1:T/N; 2:T/N, SSR; 3:T/N, SSR, DSR (int)\n            * replace: True if labels should be replaces, False otherwise (bool)\n            * old: old labels to raplace [int]\n            * new: new labels that will replace old labels [int]\n            * ignored_labels: labels that will be ignored in this manipulation [int]\n            * thresh: threshold that defines distance for touching (float)\n        \n        Returns:\n            e2SEC matrix in the current folder as \"e2sec_matrix.npy\"\n    \n    esec_to_e2sec(esec_array)\n        Takes an eSEC matrix as input and outputs the calculated e2SEC matrix.\n        \n        Parameters:\n            * esec_array: eSEC array\n            \n        Returns:\n            * eSEC array: array that contains the eSEC matrix\n            * e2SEC array: array that contains the e2SEC matrix\n    \n    xor(...)\n        xor(a, b) -- Same as a ^ b.\n\nDATA\n    absent_03 = False\n    absent_o1 = False\n    absent_o2 = False\n    count1 = 0\n    count2 = 0\n    count3 = 0\n    count_esec = 0\n    count_ground = 0\n    ground = 0\n    hand_label_inarray = -1\n    internal_count = 0\n    o1 = None\n    o1_label = 0\n    o2 = None\n    o2_label = 0\n    o3 = None\n    o3_label = 0\n    previous_array = None\n    total_unique_labels = 0\n\nFILE\n    /home/sazu/ownCloud/ManipulationLibrary/manipulation_analyser.py\n\n\n"
     ]
    }
   ],
   "source": [
    "help(manipulate)"
   ]
  },
  {
   "source": [
    "With this module MANIAC manipulations can be analysed so that an eSEC/e²SEC matrix is returned at the end. \n",
    "## WARNING: work in progress"
   ],
   "cell_type": "markdown",
   "metadata": {}
  },
  {
   "cell_type": "code",
   "execution_count": 3,
   "metadata": {},
   "outputs": [],
   "source": [
    "#as an example we take the manipulation \"Put_On_Top_10\"\n",
    "#first we define the folder that contains the .pcd files\n",
    "pcl_path     = \"Put_on_Top_10/\"\n",
    "#then we define the folder containing the label files for this manipulation\n",
    "label_path   = \"Put_on_Top_10_labels/\"\n",
    "#now we need the ground label, hand label and support hand label\n",
    "ground_label = 1\n",
    "hand_label   = 7\n",
    "support_hand = None\n",
    "#we want to process with TNR, SSR and DSR \n",
    "relations    = 3\n",
    "#in this manipulation we need to replace some labels because they are wrong labeld in the segemntation step\n",
    "replace      = True\n",
    "old          = [5]\n",
    "new          = [4]\n",
    "#since there are labels that should not be there we ignore them in the processing\n",
    "ignored_labels =  [29,25,28,18]\n",
    "#as a touching thresold we define 0.1 m\n",
    "thresh = 0.1"
   ]
  },
  {
   "cell_type": "code",
   "execution_count": 10,
   "metadata": {},
   "outputs": [
    {
     "output_type": "stream",
     "name": "stderr",
     "text": [
      " 21% (58 of 266) |#####                  | Elapsed Time: 0:00:03 ETA:   0:00:08o1 found!, label: 3\n",
      "o2 found!, label: 4\n",
      "100% (266 of 266) |######################| Elapsed Time: 0:01:04 Time:  0:01:04\n"
     ]
    },
    {
     "output_type": "display_data",
     "data": {
      "text/plain": "<Figure size 1440x720 with 0 Axes>"
     },
     "metadata": {}
    },
    {
     "output_type": "display_data",
     "data": {
      "text/plain": "<Figure size 1440x720 with 0 Axes>"
     },
     "metadata": {}
    },
    {
     "output_type": "display_data",
     "data": {
      "text/plain": "<Figure size 1440x720 with 0 Axes>"
     },
     "metadata": {}
    },
    {
     "output_type": "display_data",
     "data": {
      "text/plain": "<Figure size 1440x720 with 0 Axes>"
     },
     "metadata": {}
    },
    {
     "output_type": "display_data",
     "data": {
      "text/plain": "<Figure size 1440x720 with 0 Axes>"
     },
     "metadata": {}
    },
    {
     "output_type": "display_data",
     "data": {
      "text/plain": "<Figure size 1440x720 with 0 Axes>"
     },
     "metadata": {}
    },
    {
     "output_type": "display_data",
     "data": {
      "text/plain": "<Figure size 1440x720 with 0 Axes>"
     },
     "metadata": {}
    },
    {
     "output_type": "display_data",
     "data": {
      "text/plain": "<Figure size 1440x720 with 0 Axes>"
     },
     "metadata": {}
    },
    {
     "output_type": "display_data",
     "data": {
      "text/plain": "<Figure size 1440x720 with 0 Axes>"
     },
     "metadata": {}
    },
    {
     "output_type": "display_data",
     "data": {
      "text/plain": "<Figure size 1440x720 with 0 Axes>"
     },
     "metadata": {}
    },
    {
     "output_type": "display_data",
     "data": {
      "text/plain": "<Figure size 1440x720 with 0 Axes>"
     },
     "metadata": {}
    },
    {
     "output_type": "display_data",
     "data": {
      "text/plain": "<Figure size 1440x720 with 0 Axes>"
     },
     "metadata": {}
    },
    {
     "output_type": "display_data",
     "data": {
      "text/plain": "<Figure size 1440x720 with 0 Axes>"
     },
     "metadata": {}
    },
    {
     "output_type": "display_data",
     "data": {
      "text/plain": "<Figure size 1440x720 with 0 Axes>"
     },
     "metadata": {}
    }
   ],
   "source": [
    "manipulate.analyse_maniac_manipulation(pcl_path, label_path, ground_label, hand_label, support_hand, relations, replace, old, new, ignored_labels, thresh, debug = True)"
   ]
  },
  {
   "cell_type": "code",
   "execution_count": 8,
   "metadata": {},
   "outputs": [],
   "source": [
    "#load the e2SEC matrix from function analyse_maniac_manipulation()\n",
    "e2sec_matrix = np.load(\"e2sec_matrix.npy\")"
   ]
  },
  {
   "cell_type": "code",
   "execution_count": 9,
   "metadata": {},
   "outputs": [
    {
     "output_type": "stream",
     "name": "stdout",
     "text": [
      "           0        1        2        3        4        5        6        7  \\\nH,1     b'T'     b'T'     b'T'     b'T'     b'T'     b'T'     b'T'     b'T'   \nH,2     b'N'     b'N'     b'N'     b'T'     b'N'     b'T'     b'T'     b'N'   \nH,3     b'U'     b'U'     b'U'     b'U'     b'U'     b'U'     b'U'     b'U'   \n1,2     b'T'     b'T'     b'T'     b'T'     b'T'     b'T'     b'T'     b'T'   \n1,3     b'U'     b'U'     b'U'     b'U'     b'U'     b'U'     b'U'     b'U'   \n1,G     b'T'     b'T'     b'N'     b'N'     b'N'     b'N'     b'T'     b'T'   \n2,3     b'U'     b'U'     b'U'     b'U'     b'U'     b'U'     b'U'     b'U'   \n2,G     b'T'     b'T'     b'T'     b'T'     b'T'     b'T'     b'T'     b'T'   \nH,1   b'VAR'   b'VAR'   b'VAR'  b'VART'   b'VAR'  b'VART'  b'VART'   b'VAR'   \nH,2     b'U'     b'U'     b'U'     b'U'     b'U'     b'U'     b'U'     b'U'   \nH,3     b'U'     b'U'     b'U'     b'U'     b'U'     b'U'     b'U'     b'U'   \n1,2  b'VART'  b'VART'  b'VART'  b'VART'  b'VART'  b'VART'  b'VART'  b'VART'   \n1,3     b'U'     b'U'     b'U'     b'U'     b'U'     b'U'     b'U'     b'U'   \n1,G  b'HART'  b'HART'   b'HAR'   b'HAR'   b'HAR'   b'HAR'  b'HART'  b'HART'   \n2,3     b'U'     b'U'     b'U'     b'U'     b'U'     b'U'     b'U'     b'U'   \n2,G  b'HART'  b'HART'  b'HART'  b'HART'  b'HART'  b'HART'  b'HART'  b'HART'   \nH,1     b'U'    b'MT'    b'MT'    b'MT'    b'MT'    b'MT'    b'MT'    b'MT'   \nH,2     b'U'     b'S'     b'S'    b'MT'    b'MA'    b'MT'    b'MT'     b'S'   \nH,3     b'U'     b'U'     b'U'     b'U'     b'U'     b'U'     b'U'     b'U'   \n1,2     b'U'    b'MT'    b'MT'    b'MT'    b'MT'    b'MT'    b'MT'    b'MT'   \n1,3     b'U'     b'U'     b'U'     b'U'     b'U'     b'U'     b'U'     b'U'   \n1,G     b'U'    b'MT'     b'S'     b'S'     b'S'     b'S'    b'MT'    b'MT'   \n2,3     b'U'     b'U'     b'U'     b'U'     b'U'     b'U'     b'U'     b'U'   \n2,G     b'U'    b'MT'    b'MT'    b'MT'    b'MT'    b'MT'    b'MT'    b'MT'   \n\n           8        9       10  \nH,1     b'T'     b'N'     b'N'  \nH,2     b'T'     b'T'     b'N'  \nH,3     b'U'     b'U'     b'U'  \n1,2     b'T'     b'T'     b'T'  \n1,3     b'U'     b'U'     b'U'  \n1,G     b'T'     b'N'     b'N'  \n2,3     b'U'     b'U'     b'U'  \n2,G     b'T'     b'T'     b'T'  \nH,1  b'VART'  b'VART'   b'VAR'  \nH,2     b'U'     b'U'   b'HAR'  \nH,3     b'U'     b'U'     b'U'  \n1,2  b'VART'  b'VART'  b'VART'  \n1,3     b'U'     b'U'     b'U'  \n1,G  b'HART'   b'HAR'   b'HAR'  \n2,3     b'U'     b'U'     b'U'  \n2,G  b'HART'  b'HART'  b'HART'  \nH,1    b'MT'     b'S'     b'S'  \nH,2    b'MT'    b'MT'     b'S'  \nH,3     b'U'     b'U'     b'U'  \n1,2    b'MT'    b'MT'    b'MT'  \n1,3     b'U'     b'U'     b'U'  \n1,G    b'MT'     b'S'     b'S'  \n2,3     b'U'     b'U'     b'U'  \n2,G    b'MT'    b'MT'    b'MT'  \n"
     ]
    }
   ],
   "source": [
    "#print matrix in pandas form\n",
    "pandas_frame = pd.DataFrame(e2sec_matrix)\n",
    "pandas_frame.rename(index={0:'H,1',1:'H,2',2:'H,3',3:'1,2',4:'1,3',5:'1,G',6:'2,3',7:'2,G',\n",
    "                           8:'H,1',9:'H,2',10:'H,3',11:'1,2',12:'1,3',13:'1,G',14:'2,3',15:'2,G',\n",
    "                           16:'H,1',17:'H,2',18:'H,3',19:'1,2',20:'1,3',21:'1,G',22:'2,3',23:'2,G'}, inplace=True)\n",
    "\n",
    "print (pandas_frame)"
   ]
  },
  {
   "source": [
    "There are two new folders in this one: \"event_images\", \"debug_images\"\n",
    "- \"event_images\" contains the frames that corerespond to the columns of the e2SEC table with the file name of the label as name.\n",
    "- \"debug_images\" contains the frames that corerespond to the columns of the e2SEC table as a projektion of the corresponding point cloud onto the x-y and x- plane"
   ],
   "cell_type": "markdown",
   "metadata": {}
  },
  {
   "cell_type": "code",
   "execution_count": null,
   "metadata": {},
   "outputs": [],
   "source": []
  }
 ]
}