{
 "metadata": {
  "language_info": {
   "codemirror_mode": {
    "name": "ipython",
    "version": 3
   },
   "file_extension": ".py",
   "mimetype": "text/x-python",
   "name": "python",
   "nbconvert_exporter": "python",
   "pygments_lexer": "ipython3",
   "version": "3.8.10"
  },
  "orig_nbformat": 2,
  "kernelspec": {
   "name": "python3",
   "display_name": "Python 3.8.10 64-bit"
  },
  "metadata": {
   "interpreter": {
    "hash": "31f2aee4e71d21fbe5cf8b01ff0e069b9275f58929596ceb00d14d90e3e16cd6"
   }
  },
  "interpreter": {
   "hash": "31f2aee4e71d21fbe5cf8b01ff0e069b9275f58929596ceb00d14d90e3e16cd6"
  }
 },
 "nbformat": 4,
 "nbformat_minor": 2,
 "cells": [
  {
   "cell_type": "code",
   "execution_count": 1,
   "metadata": {},
   "outputs": [],
   "source": [
    "#!/usr/bin/env python3\n",
    "# -*- coding: utf-8 -*-\n",
    "\"\"\"\n",
    "Created 2020\n",
    "\n",
    "@author: Tobias Strübing\n",
    "\"\"\"\n",
    "import sys\n",
    "sys.path.insert(0, '..')\n",
    "\n",
    "import manipulation_analyser as manipulate\n",
    "import pandas as pd\n",
    "import numpy as np"
   ]
  },
  {
   "source": [
    "help(manipulate)"
   ],
   "cell_type": "code",
   "metadata": {},
   "execution_count": 2,
   "outputs": [
    {
     "output_type": "stream",
     "name": "stdout",
     "text": [
      "Help on module manipulation_analyser:\n\nNAME\n    manipulation_analyser - Created 2020\n\nDESCRIPTION\n    @author: Tobias Strübing\n\nFUNCTIONS\n    Ab(o1_max_x, o1_max_z, o1_max_y, o1_min_x, o1_min_z, o1_min_y, o2_max_x, o2_max_z, o2_max_y, o2_min_x, o2_min_z, o2_min_y)\n    \n    Ar(o1_max_x, o1_max_z, o1_max_y, o1_min_x, o1_min_z, o1_min_y, o2_max_x, o2_max_z, o2_max_y, o2_min_x, o2_min_z, o2_min_y)\n    \n    Ba(o1_max_x, o1_max_z, o1_max_y, o1_min_x, o1_min_z, o1_min_y, o2_max_x, o2_max_z, o2_max_y, o2_min_x, o2_min_z, o2_min_y)\n    \n    Be(o1_max_x, o1_max_z, o1_max_y, o1_min_x, o1_min_z, o1_min_y, o2_max_x, o2_max_z, o2_max_y, o2_min_x, o2_min_z, o2_min_y)\n    \n    Bw(o1_max_x, o1_max_z, o1_max_y, o1_min_x, o1_min_z, o1_min_y, o2_max_x, o2_max_z, o2_max_y, o2_min_x, o2_min_z, o2_min_y, o3_max_x, o3_max_z, o3_max_y, o3_min_x, o3_min_z, o3_min_y, object)\n        #Between for o1,o2,o3\n    \n    F(o1_max_x, o1_max_z, o1_max_y, o1_min_x, o1_min_z, o1_min_y, o2_max_x, o2_max_z, o2_max_y, o2_min_x, o2_min_z, o2_min_y)\n    \n    L(o1_max_x, o1_max_z, o1_max_y, o1_min_x, o1_min_z, o1_min_y, o2_max_x, o2_max_z, o2_max_y, o2_min_x, o2_min_z, o2_min_y)\n    \n    R(o1_max_x, o1_max_z, o1_max_y, o1_min_x, o1_min_z, o1_min_y, o2_max_x, o2_max_z, o2_max_y, o2_min_x, o2_min_z, o2_min_y)\n        #SSR definitions from eSEC\n    \n    analyse_maniac_manipulation(pcl_path, label_path, ground_label, hand_label, support_hand, relations, replace, old, new, ignored_labels, thresh, cutted_labels=[], debug=False, cython=False, savename='')\n        Analyses a complete manipulation from the MANIAC dataset. Therefore, it needs the path\n        of the folder that contains all the .pcd files (pcl_path) and the label files(label_path). \n        The other parameters are listed below.\n        This functions returns and saves the calculated e2SEC matrix.\n        \n        Parameters:\n            * pcl_path: path to pcl files (string)\n            * label_path: path to label files (string)\n            * ground_label: label of the ground (int)\n            * hand_label: label of the hand (int)\n            * support_hand: label of the support hand (int)\n            * relations: relations to proceed in the computation 1:T/N; 2:T/N, SSR; 3:T/N, SSR, DSR (int)\n            * replace: True if labels should be replaces, False otherwise (bool)\n            * old: old labels to raplace [int]\n            * new: new labels that will replace old labels [int]\n            * ignored_labels: labels that will be ignored in this manipulation [int]\n            * thresh: threshold that defines distance for touching (float)\n            * cython: if true a self created filter will be used (experimental)\n            * savename: name of the saved e2SEC file\n        \n        Returns:\n            e2SEC matrix in the current folder as \"e2sec_matrix.npy\"\n    \n    esec_to_e2sec(esec_array, relations)\n        Takes an eSEC matrix as input and outputs the calculated e2SEC matrix.\n        \n        Parameters:\n            * esec_array: eSEC array\n            \n        Returns:\n            * eSEC array: array that contains the eSEC matrix\n            * e2SEC array: array that contains the e2SEC matrix\n    \n    xor(a, b, /)\n        Same as a ^ b.\n\nDATA\n    absent_o1 = False\n    absent_o2 = False\n    absent_o3 = False\n    ao1 = 0\n    ao2 = 0\n    ao3 = 0\n    count1 = 0\n    count2 = 0\n    count3 = 0\n    count_esec = 0\n    count_ground = 0\n    final_columns = []\n    first_03 = None\n    first_o1 = None\n    first_o2 = None\n    ground = 0\n    hand_label_inarray = -1\n    internal_count = 0\n    o1 = None\n    o1_label = 0\n    o2 = None\n    o2_label = 0\n    o3 = None\n    o3_label = 0\n    previous_array = None\n    total_unique_labels = 0\n\nFILE\n    /home/tobi/ownCloud/ManipulationLibrary/manipulation_analyser.py\n\n\n"
     ]
    }
   ]
  },
  {
   "source": [
    "With this module MANIAC manipulations can be analysed so that an eSEC/e²SEC matrix is returned at the end. \n",
    "## WARNING: work in progress"
   ],
   "cell_type": "markdown",
   "metadata": {}
  },
  {
   "cell_type": "code",
   "execution_count": 3,
   "metadata": {},
   "outputs": [],
   "source": [
    "#as an example we take the manipulation \"Put_On_Top_10\"\n",
    "#first we define the folder that contains the .pcd files\n",
    "pcl_path     = \"Pushing_06/\"\n",
    "#then we define the folder containing the label files for this manipulation\n",
    "label_path   = \"Pushing_06_labels/\"\n",
    "#now we need the ground label, hand label and support hand label\n",
    "ground_label = 2\n",
    "hand_label   = 11\n",
    "support_hand = None\n",
    "#we want to process with TNR, SSR and DSR \n",
    "relations    = 3\n",
    "#in this manipulation we need to replace some labels because they are wrong labeld in the segemntation step\n",
    "replace      = True\n",
    "old          = [7,9]\n",
    "new          = [6,5]\n",
    "cutted_labels = []\n",
    "#since there are labels that should not be there we ignore them in the processing\n",
    "ignored_labels =  [8,3]\n",
    "#as a touching thresold we define 0.1 m\n",
    "thresh = 0.07"
   ]
  },
  {
   "cell_type": "code",
   "execution_count": 5,
   "metadata": {},
   "outputs": [
    {
     "output_type": "stream",
     "name": "stderr",
     "text": [
      " 21% (49 of 223) |#####                  | Elapsed Time: 0:00:02 ETA:   0:00:07o1 found!, label: 6\n",
      " 93% (208 of 223) |####################  | Elapsed Time: 0:01:34 ETA:   0:00:07Fehler: H,G\n",
      " 95% (214 of 223) |##################### | Elapsed Time: 0:01:37 ETA:   0:00:04Fehler: H,G\n",
      "100% (223 of 223) |######################| Elapsed Time: 0:01:39 Time:  0:01:39\n",
      "Fehler: H,G\n",
      "[ 51  66  75  87  90 108 111 114 135 138 159 165 171 174 177 180 195 210]\n",
      "lenght: 18\n",
      "(30, 26)\n"
     ]
    }
   ],
   "source": [
    "manipulate.analyse_maniac_manipulation(pcl_path, label_path, ground_label, hand_label, support_hand, relations, replace, old, new, ignored_labels, thresh, cutted_labels = cutted_labels, debug = True, cython = True, savename = \"Pushing_06\")"
   ]
  },
  {
   "cell_type": "code",
   "execution_count": 6,
   "metadata": {},
   "outputs": [],
   "source": [
    "#load the e2SEC matrix from function analyse_maniac_manipulation()\n",
    "e2sec_matrix = np.load(\"e2sec_Pushing_06.npy\")"
   ]
  },
  {
   "cell_type": "code",
   "execution_count": 7,
   "metadata": {},
   "outputs": [
    {
     "output_type": "stream",
     "name": "stdout",
     "text": [
      "       0        1        2        3        4        5        6        7   \\\nH,1  b'U'     b'T'     b'T'     b'T'     b'T'     b'T'     b'T'     b'T'   \nH,2  b'U'     b'U'     b'U'     b'U'     b'U'     b'U'     b'U'     b'U'   \nH,3  b'U'     b'U'     b'U'     b'U'     b'U'     b'U'     b'U'     b'U'   \n1,2  b'U'     b'U'     b'U'     b'U'     b'U'     b'U'     b'U'     b'U'   \n1,3  b'U'     b'U'     b'U'     b'U'     b'U'     b'U'     b'U'     b'U'   \n1,G  b'U'     b'T'     b'T'     b'T'     b'T'     b'T'     b'N'     b'N'   \n2,3  b'U'     b'U'     b'U'     b'U'     b'U'     b'U'     b'U'     b'U'   \n2,G  b'U'     b'U'     b'U'     b'U'     b'U'     b'U'     b'U'     b'U'   \nH,1  b'U'  b'HART'  b'VART'  b'VART'  b'VART'  b'VART'  b'VART'  b'HART'   \nH,2  b'U'     b'U'     b'U'     b'U'     b'U'     b'U'     b'U'     b'U'   \nH,3  b'U'     b'U'     b'U'     b'U'     b'U'     b'U'     b'U'     b'U'   \n1,2  b'U'     b'U'     b'U'     b'U'     b'U'     b'U'     b'U'     b'U'   \n1,3  b'U'     b'U'     b'U'     b'U'     b'U'     b'U'     b'U'     b'U'   \n1,G  b'U'  b'VART'  b'VART'  b'VART'  b'VART'  b'VART'   b'VAR'   b'VAR'   \n2,3  b'U'     b'U'     b'U'     b'U'     b'U'     b'U'     b'U'     b'U'   \n2,G  b'U'     b'U'     b'U'     b'U'     b'U'     b'U'     b'U'     b'U'   \nH,1  b'U'     b'U'    b'MT'    b'MT'    b'HT'    b'MT'    b'MT'    b'MT'   \nH,2  b'U'     b'U'     b'U'     b'U'     b'U'     b'U'     b'U'     b'U'   \nH,3  b'U'     b'U'     b'U'     b'U'     b'U'     b'U'     b'U'     b'U'   \n1,2  b'U'     b'U'     b'U'     b'U'     b'U'     b'U'     b'U'     b'U'   \n1,3  b'U'     b'U'     b'U'     b'U'     b'U'     b'U'     b'U'     b'U'   \n1,G  b'U'     b'U'    b'MT'    b'HT'    b'HT'    b'MT'    b'MA'     b'S'   \n2,3  b'U'     b'U'     b'U'     b'U'     b'U'     b'U'     b'U'     b'U'   \n2,G  b'U'     b'U'     b'U'     b'U'     b'U'     b'U'     b'U'     b'U'   \n\n          8        9   ...       21       22       23       24       25  \\\nH,1     b'T'     b'T'  ...     b'T'     b'T'     b'T'     b'T'     b'N'   \nH,2     b'N'     b'N'  ...     b'N'     b'N'     b'N'     b'N'     b'N'   \nH,3     b'U'     b'U'  ...     b'U'     b'U'     b'U'     b'U'     b'U'   \n1,2     b'T'     b'T'  ...     b'T'     b'T'     b'T'     b'T'     b'T'   \n1,3     b'U'     b'U'  ...     b'U'     b'U'     b'U'     b'U'     b'U'   \n1,G     b'N'     b'N'  ...     b'N'     b'N'     b'N'     b'N'     b'N'   \n2,3     b'U'     b'U'  ...     b'U'     b'U'     b'U'     b'U'     b'U'   \n2,G     b'T'     b'T'  ...     b'T'     b'T'     b'T'     b'T'     b'T'   \nH,1  b'VART'  b'VART'  ...  b'HART'  b'VART'  b'VART'  b'HART'   b'VAR'   \nH,2   b'VAR'   b'VAR'  ...   b'VAR'   b'VAR'   b'VAR'   b'VAR'   b'VAR'   \nH,3     b'U'     b'U'  ...     b'U'     b'U'     b'U'     b'U'     b'U'   \n1,2  b'VART'  b'VART'  ...  b'HART'  b'HART'  b'VART'  b'HART'  b'HART'   \n1,3     b'U'     b'U'  ...     b'U'     b'U'     b'U'     b'U'     b'U'   \n1,G   b'VAR'   b'VAR'  ...   b'VAR'   b'VAR'   b'VAR'   b'VAR'   b'VAR'   \n2,3     b'U'     b'U'  ...     b'U'     b'U'     b'U'     b'U'     b'U'   \n2,G  b'VART'  b'VART'  ...  b'VART'  b'VART'  b'VART'  b'VART'  b'VART'   \nH,1    b'MT'    b'MT'  ...    b'HT'    b'HT'    b'MT'    b'MT'    b'MA'   \nH,2     b'U'    b'GC'  ...     b'S'     b'S'     b'S'    b'MA'     b'S'   \nH,3     b'U'     b'U'  ...     b'U'     b'U'     b'U'     b'U'     b'U'   \n1,2     b'U'    b'MT'  ...    b'HT'    b'HT'    b'HT'    b'HT'    b'MT'   \n1,3     b'U'     b'U'  ...     b'U'     b'U'     b'U'     b'U'     b'U'   \n1,G     b'S'     b'S'  ...     b'S'     b'S'     b'S'     b'S'     b'S'   \n2,3     b'U'     b'U'  ...     b'U'     b'U'     b'U'     b'U'     b'U'   \n2,G     b'U'    b'HT'  ...    b'HT'    b'HT'    b'HT'    b'HT'    b'MT'   \n\n          26       27       28       29       30  \nH,1     b'N'     b'N'     b'N'     b'N'     b'N'  \nH,2     b'T'     b'N'     b'N'     b'N'     b'N'  \nH,3     b'U'     b'U'     b'U'     b'U'     b'U'  \n1,2     b'T'     b'T'     b'T'     b'T'     b'T'  \n1,3     b'U'     b'U'     b'U'     b'U'     b'U'  \n1,G     b'N'     b'N'     b'N'     b'N'     b'N'  \n2,3     b'U'     b'U'     b'U'     b'U'     b'U'  \n2,G     b'T'     b'T'     b'T'     b'T'     b'T'  \nH,1     b'O'   b'VAR'     b'O'   b'VAR'   b'VAR'  \nH,2  b'HART'   b'HAR'   b'HAR'   b'HAR'     b'O'  \nH,3     b'U'     b'U'     b'U'     b'U'     b'U'  \n1,2  b'HART'  b'HART'  b'HART'  b'HART'  b'HART'  \n1,3     b'U'     b'U'     b'U'     b'U'     b'U'  \n1,G   b'VAR'   b'VAR'   b'VAR'   b'VAR'   b'VAR'  \n2,3     b'U'     b'U'     b'U'     b'U'     b'U'  \n2,G  b'VART'  b'VART'  b'VART'  b'VART'  b'VART'  \nH,1     b'S'     b'S'    b'MA'    b'MA'    b'MA'  \nH,2    b'MT'    b'GC'     b'S'    b'MA'    b'MA'  \nH,3     b'U'     b'U'     b'U'     b'U'     b'U'  \n1,2    b'MT'    b'MT'    b'HT'    b'HT'    b'HT'  \n1,3     b'U'     b'U'     b'U'     b'U'     b'U'  \n1,G     b'S'     b'S'     b'S'     b'S'     b'S'  \n2,3     b'U'     b'U'     b'U'     b'U'     b'U'  \n2,G    b'MT'    b'MT'    b'HT'    b'HT'    b'HT'  \n\n[24 rows x 31 columns]\n"
     ]
    }
   ],
   "source": [
    "#print matrix in pandas form\n",
    "pandas_frame = pd.DataFrame(e2sec_matrix)\n",
    "pandas_frame.rename(index={0:'H,1',1:'H,2',2:'H,3',3:'1,2',4:'1,3',5:'1,G',6:'2,3',7:'2,G',\n",
    "                           8:'H,1',9:'H,2',10:'H,3',11:'1,2',12:'1,3',13:'1,G',14:'2,3',15:'2,G',\n",
    "                           16:'H,1',17:'H,2',18:'H,3',19:'1,2',20:'1,3',21:'1,G',22:'2,3',23:'2,G'}, inplace=True)\n",
    "\n",
    "print (pandas_frame)"
   ]
  },
  {
   "source": [
    "There are two new folders in this one: \"event_images\", \"debug_images\"\n",
    "- \"event_images\" contains the frames that corerespond to the columns of the e2SEC table with the file name of the label as name.\n",
    "- \"debug_images\" contains the frames that corerespond to the columns of the e2SEC table as a projektion of the corresponding point cloud onto the x-y and x- plane"
   ],
   "cell_type": "markdown",
   "metadata": {}
  },
  {
   "cell_type": "code",
   "execution_count": null,
   "metadata": {},
   "outputs": [],
   "source": []
  }
 ]
}